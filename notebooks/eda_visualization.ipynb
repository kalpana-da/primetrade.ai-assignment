{
 "cells": [
  {
   "cell_type": "code",
   "execution_count": 5,
   "id": "87037c52-0b0f-403b-b931-7d116ee59ba4",
   "metadata": {},
   "outputs": [],
   "source": [
    "import pandas as pd\n",
    "import matplotlib.pyplot as plt\n",
    "import seaborn as sns\n",
    "\n",
    "\n",
    "fear_greed = pd.read_csv('../data/fear_greed_index.csv')\n",
    "trades = pd.read_csv('../data/historical_data.csv')"
   ]
  },
  {
   "cell_type": "code",
   "execution_count": 6,
   "id": "f05a44ab-3bd5-4ddf-b5dd-20f39cb32afe",
   "metadata": {},
   "outputs": [
    {
     "data": {
      "text/plain": [
       "(211224, 16)"
      ]
     },
     "execution_count": 6,
     "metadata": {},
     "output_type": "execute_result"
    }
   ],
   "source": [
    "##Trades##\n",
    "trades.shape"
   ]
  },
  {
   "cell_type": "code",
   "execution_count": 7,
   "id": "1f219047-1420-433e-b7cc-6782f5c52cd4",
   "metadata": {},
   "outputs": [
    {
     "data": {
      "text/plain": [
       "Index(['Account', 'Coin', 'Execution Price', 'Size Tokens', 'Size USD', 'Side',\n",
       "       'Timestamp IST', 'Start Position', 'Direction', 'Closed PnL',\n",
       "       'Transaction Hash', 'Order ID', 'Crossed', 'Fee', 'Trade ID',\n",
       "       'Timestamp'],\n",
       "      dtype='object')"
      ]
     },
     "execution_count": 7,
     "metadata": {},
     "output_type": "execute_result"
    }
   ],
   "source": [
    "trades.columns"
   ]
  },
  {
   "cell_type": "code",
   "execution_count": 8,
   "id": "1ad7bc47-083d-409f-b917-bb888fd828e4",
   "metadata": {},
   "outputs": [
    {
     "data": {
      "text/html": [
       "<div>\n",
       "<style scoped>\n",
       "    .dataframe tbody tr th:only-of-type {\n",
       "        vertical-align: middle;\n",
       "    }\n",
       "\n",
       "    .dataframe tbody tr th {\n",
       "        vertical-align: top;\n",
       "    }\n",
       "\n",
       "    .dataframe thead th {\n",
       "        text-align: right;\n",
       "    }\n",
       "</style>\n",
       "<table border=\"1\" class=\"dataframe\">\n",
       "  <thead>\n",
       "    <tr style=\"text-align: right;\">\n",
       "      <th></th>\n",
       "      <th>Timestamp</th>\n",
       "      <th>Timestamp IST</th>\n",
       "    </tr>\n",
       "  </thead>\n",
       "  <tbody>\n",
       "    <tr>\n",
       "      <th>0</th>\n",
       "      <td>1.730000e+12</td>\n",
       "      <td>02-12-2024 22:50</td>\n",
       "    </tr>\n",
       "    <tr>\n",
       "      <th>1</th>\n",
       "      <td>1.730000e+12</td>\n",
       "      <td>02-12-2024 22:50</td>\n",
       "    </tr>\n",
       "    <tr>\n",
       "      <th>2</th>\n",
       "      <td>1.730000e+12</td>\n",
       "      <td>02-12-2024 22:50</td>\n",
       "    </tr>\n",
       "    <tr>\n",
       "      <th>3</th>\n",
       "      <td>1.730000e+12</td>\n",
       "      <td>02-12-2024 22:50</td>\n",
       "    </tr>\n",
       "    <tr>\n",
       "      <th>4</th>\n",
       "      <td>1.730000e+12</td>\n",
       "      <td>02-12-2024 22:50</td>\n",
       "    </tr>\n",
       "    <tr>\n",
       "      <th>5</th>\n",
       "      <td>1.730000e+12</td>\n",
       "      <td>02-12-2024 22:50</td>\n",
       "    </tr>\n",
       "    <tr>\n",
       "      <th>6</th>\n",
       "      <td>1.730000e+12</td>\n",
       "      <td>02-12-2024 22:50</td>\n",
       "    </tr>\n",
       "    <tr>\n",
       "      <th>7</th>\n",
       "      <td>1.730000e+12</td>\n",
       "      <td>02-12-2024 22:50</td>\n",
       "    </tr>\n",
       "    <tr>\n",
       "      <th>8</th>\n",
       "      <td>1.730000e+12</td>\n",
       "      <td>02-12-2024 22:50</td>\n",
       "    </tr>\n",
       "    <tr>\n",
       "      <th>9</th>\n",
       "      <td>1.730000e+12</td>\n",
       "      <td>02-12-2024 22:50</td>\n",
       "    </tr>\n",
       "  </tbody>\n",
       "</table>\n",
       "</div>"
      ],
      "text/plain": [
       "      Timestamp     Timestamp IST\n",
       "0  1.730000e+12  02-12-2024 22:50\n",
       "1  1.730000e+12  02-12-2024 22:50\n",
       "2  1.730000e+12  02-12-2024 22:50\n",
       "3  1.730000e+12  02-12-2024 22:50\n",
       "4  1.730000e+12  02-12-2024 22:50\n",
       "5  1.730000e+12  02-12-2024 22:50\n",
       "6  1.730000e+12  02-12-2024 22:50\n",
       "7  1.730000e+12  02-12-2024 22:50\n",
       "8  1.730000e+12  02-12-2024 22:50\n",
       "9  1.730000e+12  02-12-2024 22:50"
      ]
     },
     "execution_count": 8,
     "metadata": {},
     "output_type": "execute_result"
    }
   ],
   "source": [
    "\n",
    "trades[['Timestamp', 'Timestamp IST']].head(10)\n"
   ]
  },
  {
   "cell_type": "code",
   "execution_count": 9,
   "id": "38890e14-4eb8-4988-bfd7-32c57d8ae577",
   "metadata": {},
   "outputs": [
    {
     "data": {
      "text/plain": [
       "0      2018-02-01\n",
       "1      2018-02-02\n",
       "2      2018-02-03\n",
       "3      2018-02-04\n",
       "4      2018-02-05\n",
       "          ...    \n",
       "2639   2025-04-28\n",
       "2640   2025-04-29\n",
       "2641   2025-04-30\n",
       "2642   2025-05-01\n",
       "2643   2025-05-02\n",
       "Name: date, Length: 2644, dtype: datetime64[ns]"
      ]
     },
     "execution_count": 9,
     "metadata": {},
     "output_type": "execute_result"
    }
   ],
   "source": [
    "\n",
    "trades['date'] = pd.to_datetime(trades['Timestamp IST'], dayfirst=True)\n",
    "fear_greed['date'] = pd.to_datetime(fear_greed['date'], errors='coerce')\n",
    "fear_greed['date'] "
   ]
  },
  {
   "cell_type": "code",
   "execution_count": 10,
   "id": "e0d65375-f6c4-4717-b161-0617cfe4156f",
   "metadata": {},
   "outputs": [
    {
     "data": {
      "text/html": [
       "<div>\n",
       "<style scoped>\n",
       "    .dataframe tbody tr th:only-of-type {\n",
       "        vertical-align: middle;\n",
       "    }\n",
       "\n",
       "    .dataframe tbody tr th {\n",
       "        vertical-align: top;\n",
       "    }\n",
       "\n",
       "    .dataframe thead th {\n",
       "        text-align: right;\n",
       "    }\n",
       "</style>\n",
       "<table border=\"1\" class=\"dataframe\">\n",
       "  <thead>\n",
       "    <tr style=\"text-align: right;\">\n",
       "      <th></th>\n",
       "      <th>Account</th>\n",
       "      <th>Coin</th>\n",
       "      <th>Execution Price</th>\n",
       "      <th>Size Tokens</th>\n",
       "      <th>Size USD</th>\n",
       "      <th>Side</th>\n",
       "      <th>Timestamp IST</th>\n",
       "      <th>Start Position</th>\n",
       "      <th>Direction</th>\n",
       "      <th>Closed PnL</th>\n",
       "      <th>Transaction Hash</th>\n",
       "      <th>Order ID</th>\n",
       "      <th>Crossed</th>\n",
       "      <th>Fee</th>\n",
       "      <th>Trade ID</th>\n",
       "      <th>Timestamp</th>\n",
       "      <th>date</th>\n",
       "      <th>classification</th>\n",
       "    </tr>\n",
       "  </thead>\n",
       "  <tbody>\n",
       "    <tr>\n",
       "      <th>0</th>\n",
       "      <td>0xae5eacaf9c6b9111fd53034a602c192a04e082ed</td>\n",
       "      <td>@107</td>\n",
       "      <td>7.9769</td>\n",
       "      <td>986.87</td>\n",
       "      <td>7872.16</td>\n",
       "      <td>BUY</td>\n",
       "      <td>02-12-2024 22:50</td>\n",
       "      <td>0.000000</td>\n",
       "      <td>Buy</td>\n",
       "      <td>0.0000</td>\n",
       "      <td>0xec09451986a1874e3a980418412fcd0201f500c95bac...</td>\n",
       "      <td>52017706630</td>\n",
       "      <td>True</td>\n",
       "      <td>0.345404</td>\n",
       "      <td>8.950000e+14</td>\n",
       "      <td>1.730000e+12</td>\n",
       "      <td>2024-12-02 22:50:00</td>\n",
       "      <td>NaN</td>\n",
       "    </tr>\n",
       "    <tr>\n",
       "      <th>1</th>\n",
       "      <td>0xae5eacaf9c6b9111fd53034a602c192a04e082ed</td>\n",
       "      <td>@107</td>\n",
       "      <td>7.9800</td>\n",
       "      <td>16.00</td>\n",
       "      <td>127.68</td>\n",
       "      <td>BUY</td>\n",
       "      <td>02-12-2024 22:50</td>\n",
       "      <td>986.524596</td>\n",
       "      <td>Buy</td>\n",
       "      <td>0.0000</td>\n",
       "      <td>0xec09451986a1874e3a980418412fcd0201f500c95bac...</td>\n",
       "      <td>52017706630</td>\n",
       "      <td>True</td>\n",
       "      <td>0.005600</td>\n",
       "      <td>4.430000e+14</td>\n",
       "      <td>1.730000e+12</td>\n",
       "      <td>2024-12-02 22:50:00</td>\n",
       "      <td>NaN</td>\n",
       "    </tr>\n",
       "    <tr>\n",
       "      <th>2</th>\n",
       "      <td>0xae5eacaf9c6b9111fd53034a602c192a04e082ed</td>\n",
       "      <td>@107</td>\n",
       "      <td>7.9855</td>\n",
       "      <td>144.09</td>\n",
       "      <td>1150.63</td>\n",
       "      <td>BUY</td>\n",
       "      <td>02-12-2024 22:50</td>\n",
       "      <td>1002.518996</td>\n",
       "      <td>Buy</td>\n",
       "      <td>0.0000</td>\n",
       "      <td>0xec09451986a1874e3a980418412fcd0201f500c95bac...</td>\n",
       "      <td>52017706630</td>\n",
       "      <td>True</td>\n",
       "      <td>0.050431</td>\n",
       "      <td>6.600000e+14</td>\n",
       "      <td>1.730000e+12</td>\n",
       "      <td>2024-12-02 22:50:00</td>\n",
       "      <td>NaN</td>\n",
       "    </tr>\n",
       "    <tr>\n",
       "      <th>3</th>\n",
       "      <td>0xae5eacaf9c6b9111fd53034a602c192a04e082ed</td>\n",
       "      <td>@107</td>\n",
       "      <td>7.9874</td>\n",
       "      <td>142.98</td>\n",
       "      <td>1142.04</td>\n",
       "      <td>BUY</td>\n",
       "      <td>02-12-2024 22:50</td>\n",
       "      <td>1146.558564</td>\n",
       "      <td>Buy</td>\n",
       "      <td>0.0000</td>\n",
       "      <td>0xec09451986a1874e3a980418412fcd0201f500c95bac...</td>\n",
       "      <td>52017706630</td>\n",
       "      <td>True</td>\n",
       "      <td>0.050043</td>\n",
       "      <td>1.080000e+15</td>\n",
       "      <td>1.730000e+12</td>\n",
       "      <td>2024-12-02 22:50:00</td>\n",
       "      <td>NaN</td>\n",
       "    </tr>\n",
       "    <tr>\n",
       "      <th>4</th>\n",
       "      <td>0xae5eacaf9c6b9111fd53034a602c192a04e082ed</td>\n",
       "      <td>@107</td>\n",
       "      <td>7.9894</td>\n",
       "      <td>8.73</td>\n",
       "      <td>69.75</td>\n",
       "      <td>BUY</td>\n",
       "      <td>02-12-2024 22:50</td>\n",
       "      <td>1289.488521</td>\n",
       "      <td>Buy</td>\n",
       "      <td>0.0000</td>\n",
       "      <td>0xec09451986a1874e3a980418412fcd0201f500c95bac...</td>\n",
       "      <td>52017706630</td>\n",
       "      <td>True</td>\n",
       "      <td>0.003055</td>\n",
       "      <td>1.050000e+15</td>\n",
       "      <td>1.730000e+12</td>\n",
       "      <td>2024-12-02 22:50:00</td>\n",
       "      <td>NaN</td>\n",
       "    </tr>\n",
       "    <tr>\n",
       "      <th>...</th>\n",
       "      <td>...</td>\n",
       "      <td>...</td>\n",
       "      <td>...</td>\n",
       "      <td>...</td>\n",
       "      <td>...</td>\n",
       "      <td>...</td>\n",
       "      <td>...</td>\n",
       "      <td>...</td>\n",
       "      <td>...</td>\n",
       "      <td>...</td>\n",
       "      <td>...</td>\n",
       "      <td>...</td>\n",
       "      <td>...</td>\n",
       "      <td>...</td>\n",
       "      <td>...</td>\n",
       "      <td>...</td>\n",
       "      <td>...</td>\n",
       "      <td>...</td>\n",
       "    </tr>\n",
       "    <tr>\n",
       "      <th>211219</th>\n",
       "      <td>0x72743ae2822edd658c0c50608fd7c5c501b2afbd</td>\n",
       "      <td>FARTCOIN</td>\n",
       "      <td>1.1010</td>\n",
       "      <td>382.20</td>\n",
       "      <td>420.80</td>\n",
       "      <td>SELL</td>\n",
       "      <td>25-04-2025 15:35</td>\n",
       "      <td>7546.600000</td>\n",
       "      <td>Close Long</td>\n",
       "      <td>-20.2566</td>\n",
       "      <td>0xcd339c08dc7b615a993c0422374d8e02027400092bc2...</td>\n",
       "      <td>88803313862</td>\n",
       "      <td>False</td>\n",
       "      <td>0.042080</td>\n",
       "      <td>1.990000e+14</td>\n",
       "      <td>1.750000e+12</td>\n",
       "      <td>2025-04-25 15:35:00</td>\n",
       "      <td>NaN</td>\n",
       "    </tr>\n",
       "    <tr>\n",
       "      <th>211220</th>\n",
       "      <td>0x72743ae2822edd658c0c50608fd7c5c501b2afbd</td>\n",
       "      <td>FARTCOIN</td>\n",
       "      <td>1.1010</td>\n",
       "      <td>2124.10</td>\n",
       "      <td>2338.63</td>\n",
       "      <td>SELL</td>\n",
       "      <td>25-04-2025 15:35</td>\n",
       "      <td>7164.400000</td>\n",
       "      <td>Close Long</td>\n",
       "      <td>-112.5773</td>\n",
       "      <td>0x29e8ede2a3a37aa0eac00422374d8e02029b00ac9f3c...</td>\n",
       "      <td>88803313862</td>\n",
       "      <td>False</td>\n",
       "      <td>0.233863</td>\n",
       "      <td>9.260000e+14</td>\n",
       "      <td>1.750000e+12</td>\n",
       "      <td>2025-04-25 15:35:00</td>\n",
       "      <td>NaN</td>\n",
       "    </tr>\n",
       "    <tr>\n",
       "      <th>211221</th>\n",
       "      <td>0x72743ae2822edd658c0c50608fd7c5c501b2afbd</td>\n",
       "      <td>FARTCOIN</td>\n",
       "      <td>1.1010</td>\n",
       "      <td>423.40</td>\n",
       "      <td>466.16</td>\n",
       "      <td>SELL</td>\n",
       "      <td>25-04-2025 15:35</td>\n",
       "      <td>5040.300000</td>\n",
       "      <td>Close Long</td>\n",
       "      <td>-22.4402</td>\n",
       "      <td>0x0780085b0c0a943eea800422374d920204c100edf579...</td>\n",
       "      <td>88803313862</td>\n",
       "      <td>False</td>\n",
       "      <td>0.046616</td>\n",
       "      <td>6.930000e+14</td>\n",
       "      <td>1.750000e+12</td>\n",
       "      <td>2025-04-25 15:35:00</td>\n",
       "      <td>NaN</td>\n",
       "    </tr>\n",
       "    <tr>\n",
       "      <th>211222</th>\n",
       "      <td>0x72743ae2822edd658c0c50608fd7c5c501b2afbd</td>\n",
       "      <td>FARTCOIN</td>\n",
       "      <td>1.1010</td>\n",
       "      <td>3599.80</td>\n",
       "      <td>3963.38</td>\n",
       "      <td>SELL</td>\n",
       "      <td>25-04-2025 15:35</td>\n",
       "      <td>4616.900000</td>\n",
       "      <td>Close Long</td>\n",
       "      <td>-190.7894</td>\n",
       "      <td>0x349c29934913b25c89e20422374d920204cd008b8a0e...</td>\n",
       "      <td>88803313862</td>\n",
       "      <td>False</td>\n",
       "      <td>0.396337</td>\n",
       "      <td>4.180000e+14</td>\n",
       "      <td>1.750000e+12</td>\n",
       "      <td>2025-04-25 15:35:00</td>\n",
       "      <td>NaN</td>\n",
       "    </tr>\n",
       "    <tr>\n",
       "      <th>211223</th>\n",
       "      <td>0x72743ae2822edd658c0c50608fd7c5c501b2afbd</td>\n",
       "      <td>FARTCOIN</td>\n",
       "      <td>1.1010</td>\n",
       "      <td>1017.10</td>\n",
       "      <td>1119.83</td>\n",
       "      <td>SELL</td>\n",
       "      <td>25-04-2025 15:35</td>\n",
       "      <td>1017.100000</td>\n",
       "      <td>Close Long</td>\n",
       "      <td>-53.9063</td>\n",
       "      <td>0xac77fab973c455d77a670422374d9602039800f1f78c...</td>\n",
       "      <td>88803313862</td>\n",
       "      <td>False</td>\n",
       "      <td>0.111982</td>\n",
       "      <td>3.270000e+14</td>\n",
       "      <td>1.750000e+12</td>\n",
       "      <td>2025-04-25 15:35:00</td>\n",
       "      <td>NaN</td>\n",
       "    </tr>\n",
       "  </tbody>\n",
       "</table>\n",
       "<p>211224 rows × 18 columns</p>\n",
       "</div>"
      ],
      "text/plain": [
       "                                           Account      Coin  Execution Price  \\\n",
       "0       0xae5eacaf9c6b9111fd53034a602c192a04e082ed      @107           7.9769   \n",
       "1       0xae5eacaf9c6b9111fd53034a602c192a04e082ed      @107           7.9800   \n",
       "2       0xae5eacaf9c6b9111fd53034a602c192a04e082ed      @107           7.9855   \n",
       "3       0xae5eacaf9c6b9111fd53034a602c192a04e082ed      @107           7.9874   \n",
       "4       0xae5eacaf9c6b9111fd53034a602c192a04e082ed      @107           7.9894   \n",
       "...                                            ...       ...              ...   \n",
       "211219  0x72743ae2822edd658c0c50608fd7c5c501b2afbd  FARTCOIN           1.1010   \n",
       "211220  0x72743ae2822edd658c0c50608fd7c5c501b2afbd  FARTCOIN           1.1010   \n",
       "211221  0x72743ae2822edd658c0c50608fd7c5c501b2afbd  FARTCOIN           1.1010   \n",
       "211222  0x72743ae2822edd658c0c50608fd7c5c501b2afbd  FARTCOIN           1.1010   \n",
       "211223  0x72743ae2822edd658c0c50608fd7c5c501b2afbd  FARTCOIN           1.1010   \n",
       "\n",
       "        Size Tokens  Size USD  Side     Timestamp IST  Start Position  \\\n",
       "0            986.87   7872.16   BUY  02-12-2024 22:50        0.000000   \n",
       "1             16.00    127.68   BUY  02-12-2024 22:50      986.524596   \n",
       "2            144.09   1150.63   BUY  02-12-2024 22:50     1002.518996   \n",
       "3            142.98   1142.04   BUY  02-12-2024 22:50     1146.558564   \n",
       "4              8.73     69.75   BUY  02-12-2024 22:50     1289.488521   \n",
       "...             ...       ...   ...               ...             ...   \n",
       "211219       382.20    420.80  SELL  25-04-2025 15:35     7546.600000   \n",
       "211220      2124.10   2338.63  SELL  25-04-2025 15:35     7164.400000   \n",
       "211221       423.40    466.16  SELL  25-04-2025 15:35     5040.300000   \n",
       "211222      3599.80   3963.38  SELL  25-04-2025 15:35     4616.900000   \n",
       "211223      1017.10   1119.83  SELL  25-04-2025 15:35     1017.100000   \n",
       "\n",
       "         Direction  Closed PnL  \\\n",
       "0              Buy      0.0000   \n",
       "1              Buy      0.0000   \n",
       "2              Buy      0.0000   \n",
       "3              Buy      0.0000   \n",
       "4              Buy      0.0000   \n",
       "...            ...         ...   \n",
       "211219  Close Long    -20.2566   \n",
       "211220  Close Long   -112.5773   \n",
       "211221  Close Long    -22.4402   \n",
       "211222  Close Long   -190.7894   \n",
       "211223  Close Long    -53.9063   \n",
       "\n",
       "                                         Transaction Hash     Order ID  \\\n",
       "0       0xec09451986a1874e3a980418412fcd0201f500c95bac...  52017706630   \n",
       "1       0xec09451986a1874e3a980418412fcd0201f500c95bac...  52017706630   \n",
       "2       0xec09451986a1874e3a980418412fcd0201f500c95bac...  52017706630   \n",
       "3       0xec09451986a1874e3a980418412fcd0201f500c95bac...  52017706630   \n",
       "4       0xec09451986a1874e3a980418412fcd0201f500c95bac...  52017706630   \n",
       "...                                                   ...          ...   \n",
       "211219  0xcd339c08dc7b615a993c0422374d8e02027400092bc2...  88803313862   \n",
       "211220  0x29e8ede2a3a37aa0eac00422374d8e02029b00ac9f3c...  88803313862   \n",
       "211221  0x0780085b0c0a943eea800422374d920204c100edf579...  88803313862   \n",
       "211222  0x349c29934913b25c89e20422374d920204cd008b8a0e...  88803313862   \n",
       "211223  0xac77fab973c455d77a670422374d9602039800f1f78c...  88803313862   \n",
       "\n",
       "        Crossed       Fee      Trade ID     Timestamp                date  \\\n",
       "0          True  0.345404  8.950000e+14  1.730000e+12 2024-12-02 22:50:00   \n",
       "1          True  0.005600  4.430000e+14  1.730000e+12 2024-12-02 22:50:00   \n",
       "2          True  0.050431  6.600000e+14  1.730000e+12 2024-12-02 22:50:00   \n",
       "3          True  0.050043  1.080000e+15  1.730000e+12 2024-12-02 22:50:00   \n",
       "4          True  0.003055  1.050000e+15  1.730000e+12 2024-12-02 22:50:00   \n",
       "...         ...       ...           ...           ...                 ...   \n",
       "211219    False  0.042080  1.990000e+14  1.750000e+12 2025-04-25 15:35:00   \n",
       "211220    False  0.233863  9.260000e+14  1.750000e+12 2025-04-25 15:35:00   \n",
       "211221    False  0.046616  6.930000e+14  1.750000e+12 2025-04-25 15:35:00   \n",
       "211222    False  0.396337  4.180000e+14  1.750000e+12 2025-04-25 15:35:00   \n",
       "211223    False  0.111982  3.270000e+14  1.750000e+12 2025-04-25 15:35:00   \n",
       "\n",
       "       classification  \n",
       "0                 NaN  \n",
       "1                 NaN  \n",
       "2                 NaN  \n",
       "3                 NaN  \n",
       "4                 NaN  \n",
       "...               ...  \n",
       "211219            NaN  \n",
       "211220            NaN  \n",
       "211221            NaN  \n",
       "211222            NaN  \n",
       "211223            NaN  \n",
       "\n",
       "[211224 rows x 18 columns]"
      ]
     },
     "execution_count": 10,
     "metadata": {},
     "output_type": "execute_result"
    }
   ],
   "source": [
    "merged = pd.merge(trades, fear_greed[['date', 'classification']], on='date', how='left')\n",
    "merged"
   ]
  },
  {
   "cell_type": "code",
   "execution_count": 11,
   "id": "20ca8d2e-cd8f-463f-afcc-42b5729f2a55",
   "metadata": {},
   "outputs": [
    {
     "data": {
      "text/html": [
       "<div>\n",
       "<style scoped>\n",
       "    .dataframe tbody tr th:only-of-type {\n",
       "        vertical-align: middle;\n",
       "    }\n",
       "\n",
       "    .dataframe tbody tr th {\n",
       "        vertical-align: top;\n",
       "    }\n",
       "\n",
       "    .dataframe thead th {\n",
       "        text-align: right;\n",
       "    }\n",
       "</style>\n",
       "<table border=\"1\" class=\"dataframe\">\n",
       "  <thead>\n",
       "    <tr style=\"text-align: right;\">\n",
       "      <th></th>\n",
       "      <th>date</th>\n",
       "      <th>Closed PnL</th>\n",
       "      <th>classification</th>\n",
       "    </tr>\n",
       "  </thead>\n",
       "  <tbody>\n",
       "    <tr>\n",
       "      <th>0</th>\n",
       "      <td>2024-12-02 22:50:00</td>\n",
       "      <td>0.0</td>\n",
       "      <td>NaN</td>\n",
       "    </tr>\n",
       "    <tr>\n",
       "      <th>1</th>\n",
       "      <td>2024-12-02 22:50:00</td>\n",
       "      <td>0.0</td>\n",
       "      <td>NaN</td>\n",
       "    </tr>\n",
       "    <tr>\n",
       "      <th>2</th>\n",
       "      <td>2024-12-02 22:50:00</td>\n",
       "      <td>0.0</td>\n",
       "      <td>NaN</td>\n",
       "    </tr>\n",
       "    <tr>\n",
       "      <th>3</th>\n",
       "      <td>2024-12-02 22:50:00</td>\n",
       "      <td>0.0</td>\n",
       "      <td>NaN</td>\n",
       "    </tr>\n",
       "    <tr>\n",
       "      <th>4</th>\n",
       "      <td>2024-12-02 22:50:00</td>\n",
       "      <td>0.0</td>\n",
       "      <td>NaN</td>\n",
       "    </tr>\n",
       "  </tbody>\n",
       "</table>\n",
       "</div>"
      ],
      "text/plain": [
       "                 date  Closed PnL classification\n",
       "0 2024-12-02 22:50:00         0.0            NaN\n",
       "1 2024-12-02 22:50:00         0.0            NaN\n",
       "2 2024-12-02 22:50:00         0.0            NaN\n",
       "3 2024-12-02 22:50:00         0.0            NaN\n",
       "4 2024-12-02 22:50:00         0.0            NaN"
      ]
     },
     "execution_count": 11,
     "metadata": {},
     "output_type": "execute_result"
    }
   ],
   "source": [
    "merged[['date', 'Closed PnL', 'classification']].head()"
   ]
  },
  {
   "cell_type": "code",
   "execution_count": 12,
   "id": "7389c8be-38e5-4f19-8942-b9f0c82e72dc",
   "metadata": {},
   "outputs": [
    {
     "data": {
      "text/plain": [
       "211080"
      ]
     },
     "execution_count": 12,
     "metadata": {},
     "output_type": "execute_result"
    }
   ],
   "source": [
    " merged['classification'].isnull().sum()"
   ]
  },
  {
   "cell_type": "code",
   "execution_count": 13,
   "id": "ef70f288-b098-45b9-b3ce-c22c222436ea",
   "metadata": {},
   "outputs": [
    {
     "name": "stdout",
     "output_type": "stream",
     "text": [
      "<class 'pandas.core.frame.DataFrame'>\n",
      "RangeIndex: 211224 entries, 0 to 211223\n",
      "Data columns (total 17 columns):\n",
      " #   Column            Non-Null Count   Dtype         \n",
      "---  ------            --------------   -----         \n",
      " 0   Account           211224 non-null  object        \n",
      " 1   Coin              211224 non-null  object        \n",
      " 2   Execution Price   211224 non-null  float64       \n",
      " 3   Size Tokens       211224 non-null  float64       \n",
      " 4   Size USD          211224 non-null  float64       \n",
      " 5   Side              211224 non-null  object        \n",
      " 6   Timestamp IST     211224 non-null  object        \n",
      " 7   Start Position    211224 non-null  float64       \n",
      " 8   Direction         211224 non-null  object        \n",
      " 9   Closed PnL        211224 non-null  float64       \n",
      " 10  Transaction Hash  211224 non-null  object        \n",
      " 11  Order ID          211224 non-null  int64         \n",
      " 12  Crossed           211224 non-null  bool          \n",
      " 13  Fee               211224 non-null  float64       \n",
      " 14  Trade ID          211224 non-null  float64       \n",
      " 15  Timestamp         211224 non-null  float64       \n",
      " 16  date              211224 non-null  datetime64[ns]\n",
      "dtypes: bool(1), datetime64[ns](1), float64(8), int64(1), object(6)\n",
      "memory usage: 26.0+ MB\n"
     ]
    }
   ],
   "source": [
    "trades.info()"
   ]
  },
  {
   "cell_type": "code",
   "execution_count": null,
   "id": "08cd0b14-5452-48e8-a945-65b666f54546",
   "metadata": {},
   "outputs": [],
   "source": []
  },
  {
   "cell_type": "code",
   "execution_count": 14,
   "id": "aaf8d921-5e74-4592-9b56-785bf7129016",
   "metadata": {},
   "outputs": [
    {
     "data": {
      "text/html": [
       "<div>\n",
       "<style scoped>\n",
       "    .dataframe tbody tr th:only-of-type {\n",
       "        vertical-align: middle;\n",
       "    }\n",
       "\n",
       "    .dataframe tbody tr th {\n",
       "        vertical-align: top;\n",
       "    }\n",
       "\n",
       "    .dataframe thead th {\n",
       "        text-align: right;\n",
       "    }\n",
       "</style>\n",
       "<table border=\"1\" class=\"dataframe\">\n",
       "  <thead>\n",
       "    <tr style=\"text-align: right;\">\n",
       "      <th></th>\n",
       "      <th>Execution Price</th>\n",
       "      <th>Size Tokens</th>\n",
       "      <th>Size USD</th>\n",
       "      <th>Start Position</th>\n",
       "      <th>Closed PnL</th>\n",
       "      <th>Order ID</th>\n",
       "      <th>Fee</th>\n",
       "      <th>Trade ID</th>\n",
       "      <th>Timestamp</th>\n",
       "      <th>date</th>\n",
       "    </tr>\n",
       "  </thead>\n",
       "  <tbody>\n",
       "    <tr>\n",
       "      <th>count</th>\n",
       "      <td>211224.000000</td>\n",
       "      <td>2.112240e+05</td>\n",
       "      <td>2.112240e+05</td>\n",
       "      <td>2.112240e+05</td>\n",
       "      <td>211224.000000</td>\n",
       "      <td>2.112240e+05</td>\n",
       "      <td>211224.000000</td>\n",
       "      <td>2.112240e+05</td>\n",
       "      <td>2.112240e+05</td>\n",
       "      <td>211224</td>\n",
       "    </tr>\n",
       "    <tr>\n",
       "      <th>mean</th>\n",
       "      <td>11414.723350</td>\n",
       "      <td>4.623365e+03</td>\n",
       "      <td>5.639451e+03</td>\n",
       "      <td>-2.994625e+04</td>\n",
       "      <td>48.749001</td>\n",
       "      <td>6.965388e+10</td>\n",
       "      <td>1.163967</td>\n",
       "      <td>5.628549e+14</td>\n",
       "      <td>1.737744e+12</td>\n",
       "      <td>2025-01-31 12:04:22.915009792</td>\n",
       "    </tr>\n",
       "    <tr>\n",
       "      <th>min</th>\n",
       "      <td>0.000005</td>\n",
       "      <td>8.740000e-07</td>\n",
       "      <td>0.000000e+00</td>\n",
       "      <td>-1.433463e+07</td>\n",
       "      <td>-117990.104100</td>\n",
       "      <td>1.732711e+08</td>\n",
       "      <td>-1.175712</td>\n",
       "      <td>0.000000e+00</td>\n",
       "      <td>1.680000e+12</td>\n",
       "      <td>2023-05-01 01:06:00</td>\n",
       "    </tr>\n",
       "    <tr>\n",
       "      <th>25%</th>\n",
       "      <td>4.854700</td>\n",
       "      <td>2.940000e+00</td>\n",
       "      <td>1.937900e+02</td>\n",
       "      <td>-3.762311e+02</td>\n",
       "      <td>0.000000</td>\n",
       "      <td>5.983853e+10</td>\n",
       "      <td>0.016121</td>\n",
       "      <td>2.810000e+14</td>\n",
       "      <td>1.740000e+12</td>\n",
       "      <td>2024-12-31 21:00:45</td>\n",
       "    </tr>\n",
       "    <tr>\n",
       "      <th>50%</th>\n",
       "      <td>18.280000</td>\n",
       "      <td>3.200000e+01</td>\n",
       "      <td>5.970450e+02</td>\n",
       "      <td>8.472793e+01</td>\n",
       "      <td>0.000000</td>\n",
       "      <td>7.442939e+10</td>\n",
       "      <td>0.089578</td>\n",
       "      <td>5.620000e+14</td>\n",
       "      <td>1.740000e+12</td>\n",
       "      <td>2025-02-24 18:55:00</td>\n",
       "    </tr>\n",
       "    <tr>\n",
       "      <th>75%</th>\n",
       "      <td>101.580000</td>\n",
       "      <td>1.879025e+02</td>\n",
       "      <td>2.058960e+03</td>\n",
       "      <td>9.337278e+03</td>\n",
       "      <td>5.792797</td>\n",
       "      <td>8.335543e+10</td>\n",
       "      <td>0.393811</td>\n",
       "      <td>8.460000e+14</td>\n",
       "      <td>1.740000e+12</td>\n",
       "      <td>2025-04-02 18:22:00</td>\n",
       "    </tr>\n",
       "    <tr>\n",
       "      <th>max</th>\n",
       "      <td>109004.000000</td>\n",
       "      <td>1.582244e+07</td>\n",
       "      <td>3.921431e+06</td>\n",
       "      <td>3.050948e+07</td>\n",
       "      <td>135329.090100</td>\n",
       "      <td>9.014923e+10</td>\n",
       "      <td>837.471593</td>\n",
       "      <td>1.130000e+15</td>\n",
       "      <td>1.750000e+12</td>\n",
       "      <td>2025-05-01 12:13:00</td>\n",
       "    </tr>\n",
       "    <tr>\n",
       "      <th>std</th>\n",
       "      <td>29447.654868</td>\n",
       "      <td>1.042729e+05</td>\n",
       "      <td>3.657514e+04</td>\n",
       "      <td>6.738074e+05</td>\n",
       "      <td>919.164828</td>\n",
       "      <td>1.835753e+10</td>\n",
       "      <td>6.758854</td>\n",
       "      <td>3.257565e+14</td>\n",
       "      <td>8.689920e+09</td>\n",
       "      <td>NaN</td>\n",
       "    </tr>\n",
       "  </tbody>\n",
       "</table>\n",
       "</div>"
      ],
      "text/plain": [
       "       Execution Price   Size Tokens      Size USD  Start Position  \\\n",
       "count    211224.000000  2.112240e+05  2.112240e+05    2.112240e+05   \n",
       "mean      11414.723350  4.623365e+03  5.639451e+03   -2.994625e+04   \n",
       "min           0.000005  8.740000e-07  0.000000e+00   -1.433463e+07   \n",
       "25%           4.854700  2.940000e+00  1.937900e+02   -3.762311e+02   \n",
       "50%          18.280000  3.200000e+01  5.970450e+02    8.472793e+01   \n",
       "75%         101.580000  1.879025e+02  2.058960e+03    9.337278e+03   \n",
       "max      109004.000000  1.582244e+07  3.921431e+06    3.050948e+07   \n",
       "std       29447.654868  1.042729e+05  3.657514e+04    6.738074e+05   \n",
       "\n",
       "          Closed PnL      Order ID            Fee      Trade ID     Timestamp  \\\n",
       "count  211224.000000  2.112240e+05  211224.000000  2.112240e+05  2.112240e+05   \n",
       "mean       48.749001  6.965388e+10       1.163967  5.628549e+14  1.737744e+12   \n",
       "min   -117990.104100  1.732711e+08      -1.175712  0.000000e+00  1.680000e+12   \n",
       "25%         0.000000  5.983853e+10       0.016121  2.810000e+14  1.740000e+12   \n",
       "50%         0.000000  7.442939e+10       0.089578  5.620000e+14  1.740000e+12   \n",
       "75%         5.792797  8.335543e+10       0.393811  8.460000e+14  1.740000e+12   \n",
       "max    135329.090100  9.014923e+10     837.471593  1.130000e+15  1.750000e+12   \n",
       "std       919.164828  1.835753e+10       6.758854  3.257565e+14  8.689920e+09   \n",
       "\n",
       "                                date  \n",
       "count                         211224  \n",
       "mean   2025-01-31 12:04:22.915009792  \n",
       "min              2023-05-01 01:06:00  \n",
       "25%              2024-12-31 21:00:45  \n",
       "50%              2025-02-24 18:55:00  \n",
       "75%              2025-04-02 18:22:00  \n",
       "max              2025-05-01 12:13:00  \n",
       "std                              NaN  "
      ]
     },
     "execution_count": 14,
     "metadata": {},
     "output_type": "execute_result"
    }
   ],
   "source": [
    "trades.describe()"
   ]
  },
  {
   "cell_type": "code",
   "execution_count": 15,
   "id": "c0fa8666-a96e-4421-b11d-07960c09e97e",
   "metadata": {},
   "outputs": [
    {
     "data": {
      "text/plain": [
       "0         02-12-2024 22:50\n",
       "1         02-12-2024 22:50\n",
       "2         02-12-2024 22:50\n",
       "3         02-12-2024 22:50\n",
       "4         02-12-2024 22:50\n",
       "                ...       \n",
       "211219    25-04-2025 15:35\n",
       "211220    25-04-2025 15:35\n",
       "211221    25-04-2025 15:35\n",
       "211222    25-04-2025 15:35\n",
       "211223    25-04-2025 15:35\n",
       "Name: Timestamp IST, Length: 211224, dtype: object"
      ]
     },
     "execution_count": 15,
     "metadata": {},
     "output_type": "execute_result"
    }
   ],
   "source": [
    "trades['Timestamp IST']"
   ]
  },
  {
   "cell_type": "code",
   "execution_count": 16,
   "id": "2e52dc68-4cae-44b6-b728-a6a9751eb4d8",
   "metadata": {},
   "outputs": [
    {
     "data": {
      "text/plain": [
       "Account             0\n",
       "Coin                0\n",
       "Execution Price     0\n",
       "Size Tokens         0\n",
       "Size USD            0\n",
       "Side                0\n",
       "Timestamp IST       0\n",
       "Start Position      0\n",
       "Direction           0\n",
       "Closed PnL          0\n",
       "Transaction Hash    0\n",
       "Order ID            0\n",
       "Crossed             0\n",
       "Fee                 0\n",
       "Trade ID            0\n",
       "Timestamp           0\n",
       "date                0\n",
       "dtype: int64"
      ]
     },
     "execution_count": 16,
     "metadata": {},
     "output_type": "execute_result"
    }
   ],
   "source": [
    "trades.isnull().sum()"
   ]
  },
  {
   "cell_type": "code",
   "execution_count": 17,
   "id": "031233f8-b83d-4a4d-b3cd-bc060dac12f5",
   "metadata": {},
   "outputs": [
    {
     "data": {
      "text/plain": [
       "0"
      ]
     },
     "execution_count": 17,
     "metadata": {},
     "output_type": "execute_result"
    }
   ],
   "source": [
    "trades.duplicated().sum()"
   ]
  },
  {
   "cell_type": "code",
   "execution_count": 18,
   "id": "7c8d4f06-c091-4439-bfbe-62b9c1334f6c",
   "metadata": {},
   "outputs": [
    {
     "data": {
      "text/html": [
       "<div>\n",
       "<style scoped>\n",
       "    .dataframe tbody tr th:only-of-type {\n",
       "        vertical-align: middle;\n",
       "    }\n",
       "\n",
       "    .dataframe tbody tr th {\n",
       "        vertical-align: top;\n",
       "    }\n",
       "\n",
       "    .dataframe thead th {\n",
       "        text-align: right;\n",
       "    }\n",
       "</style>\n",
       "<table border=\"1\" class=\"dataframe\">\n",
       "  <thead>\n",
       "    <tr style=\"text-align: right;\">\n",
       "      <th></th>\n",
       "      <th>timestamp</th>\n",
       "      <th>value</th>\n",
       "      <th>classification</th>\n",
       "      <th>date</th>\n",
       "    </tr>\n",
       "  </thead>\n",
       "  <tbody>\n",
       "    <tr>\n",
       "      <th>0</th>\n",
       "      <td>1517463000</td>\n",
       "      <td>30</td>\n",
       "      <td>Fear</td>\n",
       "      <td>2018-02-01</td>\n",
       "    </tr>\n",
       "    <tr>\n",
       "      <th>1</th>\n",
       "      <td>1517549400</td>\n",
       "      <td>15</td>\n",
       "      <td>Extreme Fear</td>\n",
       "      <td>2018-02-02</td>\n",
       "    </tr>\n",
       "    <tr>\n",
       "      <th>2</th>\n",
       "      <td>1517635800</td>\n",
       "      <td>40</td>\n",
       "      <td>Fear</td>\n",
       "      <td>2018-02-03</td>\n",
       "    </tr>\n",
       "    <tr>\n",
       "      <th>3</th>\n",
       "      <td>1517722200</td>\n",
       "      <td>24</td>\n",
       "      <td>Extreme Fear</td>\n",
       "      <td>2018-02-04</td>\n",
       "    </tr>\n",
       "    <tr>\n",
       "      <th>4</th>\n",
       "      <td>1517808600</td>\n",
       "      <td>11</td>\n",
       "      <td>Extreme Fear</td>\n",
       "      <td>2018-02-05</td>\n",
       "    </tr>\n",
       "  </tbody>\n",
       "</table>\n",
       "</div>"
      ],
      "text/plain": [
       "    timestamp  value classification       date\n",
       "0  1517463000     30           Fear 2018-02-01\n",
       "1  1517549400     15   Extreme Fear 2018-02-02\n",
       "2  1517635800     40           Fear 2018-02-03\n",
       "3  1517722200     24   Extreme Fear 2018-02-04\n",
       "4  1517808600     11   Extreme Fear 2018-02-05"
      ]
     },
     "execution_count": 18,
     "metadata": {},
     "output_type": "execute_result"
    }
   ],
   "source": [
    "##fear_greed##\n",
    "fear_greed.head()\n"
   ]
  },
  {
   "cell_type": "code",
   "execution_count": 19,
   "id": "ec559cf4-837c-4d1d-8b56-a16263d8a5ca",
   "metadata": {},
   "outputs": [
    {
     "data": {
      "text/plain": [
       "(2644, 4)"
      ]
     },
     "execution_count": 19,
     "metadata": {},
     "output_type": "execute_result"
    }
   ],
   "source": [
    "fear_greed.shape"
   ]
  },
  {
   "cell_type": "code",
   "execution_count": 20,
   "id": "9dd238be-61c9-43db-84df-e284e5a9dc03",
   "metadata": {},
   "outputs": [
    {
     "name": "stdout",
     "output_type": "stream",
     "text": [
      "<class 'pandas.core.frame.DataFrame'>\n",
      "RangeIndex: 2644 entries, 0 to 2643\n",
      "Data columns (total 4 columns):\n",
      " #   Column          Non-Null Count  Dtype         \n",
      "---  ------          --------------  -----         \n",
      " 0   timestamp       2644 non-null   int64         \n",
      " 1   value           2644 non-null   int64         \n",
      " 2   classification  2644 non-null   object        \n",
      " 3   date            2644 non-null   datetime64[ns]\n",
      "dtypes: datetime64[ns](1), int64(2), object(1)\n",
      "memory usage: 82.8+ KB\n"
     ]
    }
   ],
   "source": [
    "fear_greed.info()"
   ]
  },
  {
   "cell_type": "code",
   "execution_count": 21,
   "id": "72853b2e-ca39-4902-9261-3375ee1b28f8",
   "metadata": {},
   "outputs": [
    {
     "data": {
      "text/html": [
       "<div>\n",
       "<style scoped>\n",
       "    .dataframe tbody tr th:only-of-type {\n",
       "        vertical-align: middle;\n",
       "    }\n",
       "\n",
       "    .dataframe tbody tr th {\n",
       "        vertical-align: top;\n",
       "    }\n",
       "\n",
       "    .dataframe thead th {\n",
       "        text-align: right;\n",
       "    }\n",
       "</style>\n",
       "<table border=\"1\" class=\"dataframe\">\n",
       "  <thead>\n",
       "    <tr style=\"text-align: right;\">\n",
       "      <th></th>\n",
       "      <th>timestamp</th>\n",
       "      <th>value</th>\n",
       "      <th>date</th>\n",
       "    </tr>\n",
       "  </thead>\n",
       "  <tbody>\n",
       "    <tr>\n",
       "      <th>count</th>\n",
       "      <td>2.644000e+03</td>\n",
       "      <td>2644.000000</td>\n",
       "      <td>2644</td>\n",
       "    </tr>\n",
       "    <tr>\n",
       "      <th>mean</th>\n",
       "      <td>1.631899e+09</td>\n",
       "      <td>46.981089</td>\n",
       "      <td>2021-09-17 11:44:45.022692864</td>\n",
       "    </tr>\n",
       "    <tr>\n",
       "      <th>min</th>\n",
       "      <td>1.517463e+09</td>\n",
       "      <td>5.000000</td>\n",
       "      <td>2018-02-01 00:00:00</td>\n",
       "    </tr>\n",
       "    <tr>\n",
       "      <th>25%</th>\n",
       "      <td>1.574811e+09</td>\n",
       "      <td>28.000000</td>\n",
       "      <td>2019-11-26 18:00:00</td>\n",
       "    </tr>\n",
       "    <tr>\n",
       "      <th>50%</th>\n",
       "      <td>1.631900e+09</td>\n",
       "      <td>46.000000</td>\n",
       "      <td>2021-09-17 12:00:00</td>\n",
       "    </tr>\n",
       "    <tr>\n",
       "      <th>75%</th>\n",
       "      <td>1.688989e+09</td>\n",
       "      <td>66.000000</td>\n",
       "      <td>2023-07-10 06:00:00</td>\n",
       "    </tr>\n",
       "    <tr>\n",
       "      <th>max</th>\n",
       "      <td>1.746164e+09</td>\n",
       "      <td>95.000000</td>\n",
       "      <td>2025-05-02 00:00:00</td>\n",
       "    </tr>\n",
       "    <tr>\n",
       "      <th>std</th>\n",
       "      <td>6.597967e+07</td>\n",
       "      <td>21.827680</td>\n",
       "      <td>NaN</td>\n",
       "    </tr>\n",
       "  </tbody>\n",
       "</table>\n",
       "</div>"
      ],
      "text/plain": [
       "          timestamp        value                           date\n",
       "count  2.644000e+03  2644.000000                           2644\n",
       "mean   1.631899e+09    46.981089  2021-09-17 11:44:45.022692864\n",
       "min    1.517463e+09     5.000000            2018-02-01 00:00:00\n",
       "25%    1.574811e+09    28.000000            2019-11-26 18:00:00\n",
       "50%    1.631900e+09    46.000000            2021-09-17 12:00:00\n",
       "75%    1.688989e+09    66.000000            2023-07-10 06:00:00\n",
       "max    1.746164e+09    95.000000            2025-05-02 00:00:00\n",
       "std    6.597967e+07    21.827680                            NaN"
      ]
     },
     "execution_count": 21,
     "metadata": {},
     "output_type": "execute_result"
    }
   ],
   "source": [
    "fear_greed.describe()"
   ]
  },
  {
   "cell_type": "code",
   "execution_count": 22,
   "id": "370e9573-8c7b-4cf3-820d-b705af9c65f8",
   "metadata": {},
   "outputs": [
    {
     "data": {
      "text/plain": [
       "0               Fear\n",
       "1       Extreme Fear\n",
       "2               Fear\n",
       "3       Extreme Fear\n",
       "4       Extreme Fear\n",
       "            ...     \n",
       "2639         Neutral\n",
       "2640           Greed\n",
       "2641           Greed\n",
       "2642         Neutral\n",
       "2643           Greed\n",
       "Name: classification, Length: 2644, dtype: object"
      ]
     },
     "execution_count": 22,
     "metadata": {},
     "output_type": "execute_result"
    }
   ],
   "source": [
    "fear_greed['classification'] = fear_greed['classification'].str.strip().str.title()\n",
    "fear_greed['classification']"
   ]
  },
  {
   "cell_type": "code",
   "execution_count": 23,
   "id": "41f227d0-94a9-4a07-a5f1-5dc3b62cf8a0",
   "metadata": {},
   "outputs": [
    {
     "data": {
      "text/plain": [
       "0       2018-02-01\n",
       "1       2018-02-02\n",
       "2       2018-02-03\n",
       "3       2018-02-04\n",
       "4       2018-02-05\n",
       "           ...    \n",
       "2639    2025-04-28\n",
       "2640    2025-04-29\n",
       "2641    2025-04-30\n",
       "2642    2025-05-01\n",
       "2643    2025-05-02\n",
       "Name: date, Length: 2644, dtype: object"
      ]
     },
     "execution_count": 23,
     "metadata": {},
     "output_type": "execute_result"
    }
   ],
   "source": [
    "fear_greed['date'] = fear_greed['date'].astype(str)\n",
    "fear_greed['date']"
   ]
  },
  {
   "cell_type": "code",
   "execution_count": 24,
   "id": "da27bbb3-02c0-4358-b94c-68d9f2c22978",
   "metadata": {},
   "outputs": [],
   "source": [
    "\n",
    "fear_greed['date'] = pd.to_datetime(fear_greed['date'], errors='coerce')\n"
   ]
  },
  {
   "cell_type": "code",
   "execution_count": 25,
   "id": "dbd438c2-7123-478d-82d5-d5c03d3dacb7",
   "metadata": {},
   "outputs": [
    {
     "name": "stdout",
     "output_type": "stream",
     "text": [
      "<class 'pandas.core.frame.DataFrame'>\n",
      "RangeIndex: 2644 entries, 0 to 2643\n",
      "Data columns (total 4 columns):\n",
      " #   Column          Non-Null Count  Dtype         \n",
      "---  ------          --------------  -----         \n",
      " 0   timestamp       2644 non-null   int64         \n",
      " 1   value           2644 non-null   int64         \n",
      " 2   classification  2644 non-null   object        \n",
      " 3   date            2644 non-null   datetime64[ns]\n",
      "dtypes: datetime64[ns](1), int64(2), object(1)\n",
      "memory usage: 82.8+ KB\n"
     ]
    }
   ],
   "source": [
    "fear_greed.info()"
   ]
  },
  {
   "cell_type": "code",
   "execution_count": 26,
   "id": "ee6653b3-1219-490b-af70-2ff4efd5b8cd",
   "metadata": {},
   "outputs": [
    {
     "data": {
      "text/plain": [
       "timestamp         0\n",
       "value             0\n",
       "classification    0\n",
       "date              0\n",
       "dtype: int64"
      ]
     },
     "execution_count": 26,
     "metadata": {},
     "output_type": "execute_result"
    }
   ],
   "source": [
    "fear_greed.isnull().sum()"
   ]
  },
  {
   "cell_type": "code",
   "execution_count": 27,
   "id": "bd7aa6ca-5d80-41af-a264-8c037469e183",
   "metadata": {},
   "outputs": [
    {
     "data": {
      "text/plain": [
       "0"
      ]
     },
     "execution_count": 27,
     "metadata": {},
     "output_type": "execute_result"
    }
   ],
   "source": [
    "fear_greed.duplicated().sum()"
   ]
  },
  {
   "cell_type": "code",
   "execution_count": 28,
   "id": "1ff8dcdb-cfd2-430d-9142-89a28a70dbf7",
   "metadata": {},
   "outputs": [
    {
     "data": {
      "text/plain": [
       "Index(['account', 'coin', 'execution_price', 'size_tokens', 'size_usd', 'side',\n",
       "       'timestamp_ist', 'start_position', 'direction', 'closed_pnl',\n",
       "       'transaction_hash', 'order_id', 'crossed', 'fee', 'trade_id',\n",
       "       'timestamp', 'date'],\n",
       "      dtype='object')"
      ]
     },
     "execution_count": 28,
     "metadata": {},
     "output_type": "execute_result"
    }
   ],
   "source": [
    "trades.columns = trades.columns.str.strip().str.lower().str.replace(' ', '_')\n",
    "trades.columns"
   ]
  },
  {
   "cell_type": "code",
   "execution_count": 29,
   "id": "1e413352-df75-4bd4-bb31-fec0bed764f6",
   "metadata": {},
   "outputs": [
    {
     "data": {
      "text/plain": [
       "Index(['timestamp', 'value', 'classification', 'date'], dtype='object')"
      ]
     },
     "execution_count": 29,
     "metadata": {},
     "output_type": "execute_result"
    }
   ],
   "source": [
    "fear_greed.columns = fear_greed.columns.str.strip().str.lower().str.replace(' ', '_')\n",
    "fear_greed.columns\n",
    "\n"
   ]
  },
  {
   "cell_type": "code",
   "execution_count": 30,
   "id": "56579701-1850-48de-b022-31eedc1029a6",
   "metadata": {},
   "outputs": [],
   "source": [
    "### Exploratory Data Analysis (EDA) ###"
   ]
  },
  {
   "cell_type": "code",
   "execution_count": 39,
   "id": "86daaa7e-8888-4486-a07e-8fa7f7de3fa9",
   "metadata": {},
   "outputs": [
    {
     "data": {
      "image/png": "[encoded data removed]",
      "text/plain": [
       "<Figure size 800x600 with 1 Axes>"
      ]
     },
     "metadata": {},
     "output_type": "display_data"
    }
   ],
   "source": [
    "\n",
    "# Generate and save the plot\n",
    "plt.figure(figsize=(8, 6))\n",
    "merged['classification'].value_counts().plot(kind='bar', title='Trade Count by Sentiment')\n",
    "plt.ylabel('Number of Trades')\n",
    "plt.xticks(rotation=45)\n",
    "plt.tight_layout()\n",
    "plt.savefig(\"../plots/plot.png\")\n",
    "plt.show()\n"
   ]
  },
  {
   "cell_type": "markdown",
   "id": "4494f191-669d-4e36-ac66-a4778b190f78",
   "metadata": {},
   "source": [
    "Insights :\n",
    "1) Most trades occurred during Neutral and Greed phases, suggesting traders are more active when market sentiment is stable or optimistic.\n",
    "2) Fewer trades happen during Extreme Fear, likely due to market hesitation or increased perceived risk.\n",
    "3) This indicates that trader participation is sentiment-driven, with lower engagement during negative emotional states in the market."
   ]
  },
  {
   "cell_type": "code",
   "execution_count": 38,
   "id": "404be11a-5b2e-431c-aaa7-f900ec6caf9f",
   "metadata": {
    "scrolled": true
   },
   "outputs": [
    {
     "data": {
      "image/png": "[encoded data removed]",
      "text/plain": [
       "<Figure size 640x480 with 1 Axes>"
      ]
     },
     "metadata": {},
     "output_type": "display_data"
    }
   ],
   "source": [
    "#Average Profit/Loss by Sentiment\n",
    "merged.groupby('classification')['Closed PnL'].mean().sort_values().plot(kind='bar')\n",
    "plt.title('Average Trader PnL by Market Sentiment')\n",
    "plt.ylabel('Average Closed PnL')\n",
    "plt.xticks(rotation=45)\n",
    "plt.savefig(\"../plots/average_trader_pnl_by_market_sentiment.png\")\n",
    "plt.show()\n"
   ]
  },
  {
   "cell_type": "markdown",
   "id": "988dae25-9562-4d39-ab11-5f31627f7b5b",
   "metadata": {},
   "source": [
    "# Insights : \n",
    "1) Traders earned the highest average PnL during \"Greed\" and \"Extreme Greed\", suggesting strong performance in bullish market conditions.\n",
    "2)In contrast, \"Extreme Fear\" periods resulted in negative or minimal profits, indicating higher risk and suboptimal outcomes.\n",
    "3) This pattern shows a clear positive correlation between trader profitability and optimistic market sentiment."
   ]
  },
  {
   "cell_type": "code",
   "execution_count": 34,
   "id": "fc0e1b8f-2dca-4ba8-b344-51ef3b0113d0",
   "metadata": {},
   "outputs": [
    {
     "data": {
      "image/png": "[encoded data removed]",
      "text/plain": [
       "<Figure size 640x480 with 1 Axes>"
      ]
     },
     "metadata": {},
     "output_type": "display_data"
    }
   ],
   "source": [
    "# PnL Distribution by Sentiment\n",
    "\n",
    "sns.boxplot(x='classification', y='Closed PnL', data=merged)\n",
    "plt.title('PnL Distribution by Market Sentiment')\n",
    "plt.xticks(rotation=45)\n",
    "plt.grid(True)\n",
    "plt.tight_layout()\n",
    "plt.savefig(\"../plots/pnl_distribution_by_market_sentiment.png\")\n",
    "plt.show()\n"
   ]
  },
  {
   "cell_type": "markdown",
   "id": "493fe766-97a0-4042-ae42-0bb200b88f95",
   "metadata": {},
   "source": [
    "#Insight : \n",
    "1)The spread of profits is narrowest and most positive during \"Greed\" and \"Extreme Greed\", reflecting consistent and reliable gains.\n",
    "2) During \"Extreme Fear\", the distribution is wide with heavy lower-end outliers, highlighting high volatility and frequent losses.\n",
    "3) This suggests that trading in fearful markets carries more downside risk, while bullish markets support steadier profitability."
   ]
  },
  {
   "cell_type": "code",
   "execution_count": 35,
   "id": "1c4659be-9f5f-4352-be4c-27ecfac61e10",
   "metadata": {},
   "outputs": [
    {
     "data": {
      "image/png": "[encoded data removed]",
      "text/plain": [
       "<Figure size 640x480 with 1 Axes>"
      ]
     },
     "metadata": {},
     "output_type": "display_data"
    }
   ],
   "source": [
    "# Trade Side Analysis (Buy vs Sell)\n",
    "\n",
    "pd.crosstab(merged['classification'], merged['Side']).plot(kind='bar', stacked=True)\n",
    "plt.title('Buy vs Sell Count by Sentiment')\n",
    "plt.ylabel('Number of Trades')\n",
    "plt.xticks(rotation=45)\n",
    "plt.tight_layout()\n",
    "plt.savefig(\"../plots/buy_vs_sell_count_by_sentiment.png\")\n",
    "plt.show()\n"
   ]
  },
  {
   "cell_type": "markdown",
   "id": "48e5d0e2-9341-416a-be32-67c52c469383",
   "metadata": {},
   "source": [
    "Insights :\n",
    "1) Buy trades significantly increase during \"Greed\" and \"Extreme Greed\", revealing trader confidence and optimism in bullish conditions.\n",
    "2) Sell trades dominate during \"Fear\" and \"Extreme Fear\", suggesting caution, risk aversion, and profit-taking under pressure.\n",
    "3) This behavior confirms that traders align their strategies with prevailing sentiment, buying in strength and exiting in fear."
   ]
  },
  {
   "cell_type": "code",
   "execution_count": 100,
   "id": "dfd20718-e2e7-41be-a7d5-e95e20c3ed85",
   "metadata": {},
   "outputs": [
    {
     "data": {
      "text/plain": [
       "['Account',\n",
       " 'Coin',\n",
       " 'Execution Price',\n",
       " 'Size Tokens',\n",
       " 'Size USD',\n",
       " 'Side',\n",
       " 'Timestamp IST',\n",
       " 'Start Position',\n",
       " 'Direction',\n",
       " 'Closed PnL',\n",
       " 'Transaction Hash',\n",
       " 'Order ID',\n",
       " 'Crossed',\n",
       " 'Fee',\n",
       " 'Trade ID',\n",
       " 'Timestamp',\n",
       " 'date',\n",
       " 'classification']"
      ]
     },
     "execution_count": 100,
     "metadata": {},
     "output_type": "execute_result"
    }
   ],
   "source": [
    "merged.columns.tolist()"
   ]
  },
  {
   "cell_type": "code",
   "execution_count": 36,
   "id": "e583d1fe-91c1-44ba-a4b6-f1982a695df0",
   "metadata": {},
   "outputs": [
    {
     "data": {
      "image/png": "[encoded data removed]",
      "text/plain": [
       "<Figure size 1200x600 with 2 Axes>"
      ]
     },
     "metadata": {},
     "output_type": "display_data"
    }
   ],
   "source": [
    "#Top Coins Traded per Sentiment \n",
    "\n",
    "top_coins = merged.groupby(['classification', 'Coin']).size().unstack().fillna(0)\n",
    "plt.figure(figsize=(12, 6))\n",
    "sns.heatmap(top_coins, cmap='Blues', annot=True, fmt=\".0f\")\n",
    "plt.title('Coins Traded by Sentiment')\n",
    "plt.tight_layout()\n",
    "\n",
    "plt.savefig(\"../plots/coins_traded_by_sentiment.png\")\n",
    "plt.show()\n"
   ]
  },
  {
   "cell_type": "code",
   "execution_count": null,
   "id": "a45b642d-b9be-4a5f-bc33-9de3b21485f7",
   "metadata": {},
   "outputs": [],
   "source": [
    "#Insights : \n",
    "1)Core assets like BTC and ETH are consistently traded across all sentiment levels, indicating they are trusted regardless of market emotion.\n",
    "2) Some altcoins show increased activity during \"Greed\" and \"Extreme Greed\", pointing to risk-on behavior and speculative trading in bullish times.\n",
    "3)This suggests that while safe-haven coins are always in play, traders tend to explore volatile assets only when sentiment is positive."
   ]
  },
  {
   "cell_type": "code",
   "execution_count": 37,
   "id": "8cdb59bb-9f63-4329-bd69-ef3a84669224",
   "metadata": {},
   "outputs": [
    {
     "data": {
      "image/png": "[encoded data removed]",
      "text/plain": [
       "<Figure size 1400x500 with 1 Axes>"
      ]
     },
     "metadata": {},
     "output_type": "display_data"
    }
   ],
   "source": [
    "#Daily PnL Trend vs Sentiment Over Time\n",
    "\n",
    "daily_pnl = merged.groupby(['date', 'classification'])['Closed PnL'].mean().reset_index()\n",
    "\n",
    "plt.figure(figsize=(14, 5))\n",
    "sns.lineplot(data=daily_pnl, x='date', y='Closed PnL', hue='classification')\n",
    "plt.title('Average Daily PnL by Sentiment Over Time')\n",
    "plt.tight_layout()\n",
    "plt.savefig(\"../plots/average_daily_pnl_by_sentiment_over_time.png\")\n",
    "plt.show()\n"
   ]
  },
  {
   "cell_type": "code",
   "execution_count": null,
   "id": "546a1a93-4571-48c1-a7a2-14cbd2f7ee0e",
   "metadata": {},
   "outputs": [],
   "source": [
    "#Insights : \n",
    "1) \"Greed\" and \"Extreme Greed\" phases correlate with consistently strong daily PnL, indicating sustained market momentum and trader success.\n",
    "2) \"Extreme Fear\" periods show sharp PnL drops, reinforcing the risk of losses when panic dominates sentiment.\n",
    "3) This highlights the strategic value of monitoring sentiment trends to time entries and exits based on expected profitability."
   ]
  }
 ],
 "metadata": {
  "kernelspec": {
   "display_name": "Python 3 (ipykernel)",
   "language": "python",
   "name": "python3"
  },
  "language_info": {
   "codemirror_mode": {
    "name": "ipython",
    "version": 3
   },
   "file_extension": ".py",
   "mimetype": "text/x-python",
   "name": "python",
   "nbconvert_exporter": "python",
   "pygments_lexer": "ipython3",
   "version": "3.12.3"
  }
 },
 "nbformat": 4,
 "nbformat_minor": 5
}
